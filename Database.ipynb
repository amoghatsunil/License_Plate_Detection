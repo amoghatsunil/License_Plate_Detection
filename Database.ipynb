{
  "nbformat": 4,
  "nbformat_minor": 0,
  "metadata": {
    "colab": {
      "name": "Database.ipynb",
      "provenance": [],
      "collapsed_sections": []
    },
    "kernelspec": {
      "name": "python3",
      "display_name": "Python 3"
    },
    "language_info": {
      "name": "python"
    }
  },
  "cells": [
    {
      "cell_type": "code",
      "metadata": {
        "id": "JcSvhERFcn_U"
      },
      "source": [
        "inf=\"Plate number\""
      ],
      "execution_count": null,
      "outputs": []
    },
    {
      "cell_type": "code",
      "metadata": {
        "colab": {
          "base_uri": "https://localhost:8080/"
        },
        "id": "NxFDVxSWcoF_",
        "outputId": "09ac80be-1d3a-4470-9215-d851ec3731cc"
      },
      "source": [
        "!pip install mysql-connector-python"
      ],
      "execution_count": null,
      "outputs": [
        {
          "output_type": "stream",
          "text": [
            "Collecting mysql-connector-python\n",
            "\u001b[?25l  Downloading https://files.pythonhosted.org/packages/ef/5b/a7dc32e711e4a065896188afef6864489ccf4bdab0928581c4262e84110d/mysql_connector_python-8.0.25-cp37-cp37m-manylinux1_x86_64.whl (25.4MB)\n",
            "\u001b[K     |████████████████████████████████| 25.4MB 114kB/s \n",
            "\u001b[?25hRequirement already satisfied: protobuf>=3.0.0 in /usr/local/lib/python3.7/dist-packages (from mysql-connector-python) (3.12.4)\n",
            "Requirement already satisfied: setuptools in /usr/local/lib/python3.7/dist-packages (from protobuf>=3.0.0->mysql-connector-python) (57.0.0)\n",
            "Requirement already satisfied: six>=1.9 in /usr/local/lib/python3.7/dist-packages (from protobuf>=3.0.0->mysql-connector-python) (1.15.0)\n",
            "Installing collected packages: mysql-connector-python\n",
            "Successfully installed mysql-connector-python-8.0.25\n"
          ],
          "name": "stdout"
        }
      ]
    },
    {
      "cell_type": "code",
      "metadata": {
        "id": "PJbh2Xgrc0fA"
      },
      "source": [
        "import mysql.connector\n",
        "\n",
        "mydb=mysql.connector.connect(\n",
        "  host=\"sql6.freemysqlhosting.net\",\n",
        "  user=\"sql6421727\",\n",
        "  password=\"r7Eu1TPbeX\",\n",
        "  database=\"sql6421727\"\n",
        ")"
      ],
      "execution_count": null,
      "outputs": []
    },
    {
      "cell_type": "code",
      "metadata": {
        "id": "Yohwxuzyfodv"
      },
      "source": [
        "#to insert into databse\n",
        "import datetime\n",
        "import pytz\n",
        "\n",
        "current_time = datetime.datetime.now(pytz.timezone('Asia/Kolkata'))\n",
        "date=str(current_time.year)+\"-\"+str(current_time.month)+'-'+str(current_time.day)\n",
        "time=str(current_time.hour)+\":\"+str(current_time.minute)+':'+str(current_time.second)\n",
        "\n",
        "query=\"insert into record(datee,timee,info) values(%s,%s,%s)\"\n",
        "val=(date,time,inf)\n",
        "mycursor=mydb.cursor()\n",
        "mycursor.execute(query,val)\n",
        "mydb.commit()"
      ],
      "execution_count": null,
      "outputs": []
    },
    {
      "cell_type": "code",
      "metadata": {
        "colab": {
          "base_uri": "https://localhost:8080/"
        },
        "id": "X7Wx8FTPh5AY",
        "outputId": "212e1056-4bb6-4bbb-b876-c23507648227"
      },
      "source": [
        "mycursor = mydb.cursor()\n",
        "\n",
        "mycursor.execute(\"SELECT * FROM record\")\n",
        "\n",
        "myresult = mycursor.fetchall()\n",
        "\n",
        "for x in myresult:\n",
        "  print(x)\n",
        "\n",
        "# for x in myresult:\n",
        "#   print(x.timee+' '+x.datee+' '+x.info)"
      ],
      "execution_count": null,
      "outputs": [
        {
          "output_type": "stream",
          "text": [
            "(datetime.date(2021, 6, 27), datetime.timedelta(seconds=82851), 'my string')\n",
            "(datetime.date(2021, 6, 27), datetime.timedelta(seconds=82912), 'my string2')\n"
          ],
          "name": "stdout"
        }
      ]
    }
  ]
}